{
 "cells": [
  {
   "attachments": {},
   "cell_type": "markdown",
   "metadata": {},
   "source": [
    "***\n",
    "## Online Flow Charts Tools\n",
    "\n",
    "[Draw.io](https://draw.io)  <br>\n",
    "<a href=\"https://draw.io/\" target=\"_blank\">Draw.io</a> <br>\n",
    "[Lucid Chart](https://lucidchart.com) <br>\n"
   ]
  },
  {
   "cell_type": "markdown",
   "metadata": {},
   "source": [
    "# <p style=\"font-family: Arial; font-size:1.4em;color:gold;\"> 1. Arithmetic Operator </p>\n",
    "### <p style=\"font-family: Arial; font-size:1.4em;color:gold;\">  +, -, *, / , // </p>\n"
   ]
  },
  {
   "cell_type": "markdown",
   "metadata": {},
   "source": [
    "### Run all the blow code cells and see the results (click the cell and press \"ctrl-enter\" to run it)"
   ]
  },
  {
   "cell_type": "code",
   "execution_count": 6,
   "metadata": {},
   "outputs": [
    {
     "data": {
      "text/plain": [
       "30"
      ]
     },
     "execution_count": 6,
     "metadata": {},
     "output_type": "execute_result"
    }
   ],
   "source": [
    "10 + 20"
   ]
  },
  {
   "cell_type": "code",
   "execution_count": 5,
   "metadata": {},
   "outputs": [
    {
     "data": {
      "text/plain": [
       "30.0"
      ]
     },
     "execution_count": 5,
     "metadata": {},
     "output_type": "execute_result"
    }
   ],
   "source": [
    "10.0 + 20.0"
   ]
  },
  {
   "cell_type": "code",
   "execution_count": 4,
   "metadata": {},
   "outputs": [
    {
     "data": {
      "text/plain": [
       "200"
      ]
     },
     "execution_count": 4,
     "metadata": {},
     "output_type": "execute_result"
    }
   ],
   "source": [
    "10 * 20"
   ]
  },
  {
   "cell_type": "code",
   "execution_count": 2,
   "metadata": {},
   "outputs": [
    {
     "data": {
      "text/plain": [
       "0.5"
      ]
     },
     "execution_count": 2,
     "metadata": {},
     "output_type": "execute_result"
    }
   ],
   "source": [
    "10 / 20"
   ]
  },
  {
   "cell_type": "code",
   "execution_count": 1,
   "metadata": {},
   "outputs": [
    {
     "data": {
      "text/plain": [
       "0"
      ]
     },
     "execution_count": 1,
     "metadata": {},
     "output_type": "execute_result"
    }
   ],
   "source": [
    "10 // 20"
   ]
  },
  {
   "cell_type": "code",
   "execution_count": 7,
   "metadata": {},
   "outputs": [
    {
     "data": {
      "text/plain": [
       "2"
      ]
     },
     "execution_count": 7,
     "metadata": {},
     "output_type": "execute_result"
    }
   ],
   "source": [
    "5 * 10 // 20"
   ]
  },
  {
   "cell_type": "code",
   "execution_count": 9,
   "metadata": {},
   "outputs": [
    {
     "data": {
      "text/plain": [
       "150"
      ]
     },
     "execution_count": 9,
     "metadata": {},
     "output_type": "execute_result"
    }
   ],
   "source": [
    "5 * 30 + 10 // 20 "
   ]
  },
  {
   "cell_type": "code",
   "execution_count": 12,
   "metadata": {},
   "outputs": [
    {
     "data": {
      "text/plain": [
       "75.0"
      ]
     },
     "execution_count": 12,
     "metadata": {},
     "output_type": "execute_result"
    }
   ],
   "source": [
    "5 * 30 / 2"
   ]
  },
  {
   "cell_type": "code",
   "execution_count": 13,
   "metadata": {},
   "outputs": [
    {
     "data": {
      "text/plain": [
       "3"
      ]
     },
     "execution_count": 13,
     "metadata": {},
     "output_type": "execute_result"
    }
   ],
   "source": [
    "75 // 20"
   ]
  },
  {
   "cell_type": "code",
   "execution_count": 11,
   "metadata": {},
   "outputs": [
    {
     "data": {
      "text/plain": [
       "3.0"
      ]
     },
     "execution_count": 11,
     "metadata": {},
     "output_type": "execute_result"
    }
   ],
   "source": [
    "5 * 30 / 2 // 20 "
   ]
  },
  {
   "cell_type": "markdown",
   "metadata": {},
   "source": [
    "#### Let's multiply 24.0 and 25.4"
   ]
  },
  {
   "cell_type": "code",
   "execution_count": null,
   "metadata": {},
   "outputs": [],
   "source": []
  },
  {
   "cell_type": "markdown",
   "metadata": {},
   "source": [
    "#### Let's divide 23 by 2"
   ]
  },
  {
   "cell_type": "code",
   "execution_count": null,
   "metadata": {},
   "outputs": [],
   "source": []
  },
  {
   "cell_type": "markdown",
   "metadata": {},
   "source": [
    "#### Let's divide 100 by 20. Show the result as an integer value like 5, not 5.0"
   ]
  },
  {
   "cell_type": "code",
   "execution_count": null,
   "metadata": {},
   "outputs": [],
   "source": []
  },
  {
   "attachments": {},
   "cell_type": "markdown",
   "metadata": {},
   "source": [
    "***\n",
    "## <p style=\"font-family: Arial; font-size:1.4em;color:gold;\"> 2. Variables</p>\n",
    "#### Concepts:\n",
    "<blockquote> A variable is a name that represents a value stored in the computer’s memory. \n",
    "</blockquote>\n"
   ]
  },
  {
   "attachments": {},
   "cell_type": "markdown",
   "metadata": {},
   "source": [
    "<blockquote>\n",
    "An assignment statement is written in the following general format:\n",
    "variable = expression\n",
    "</blockquote>"
   ]
  },
  {
   "cell_type": "code",
   "execution_count": null,
   "metadata": {},
   "outputs": [],
   "source": [
    "width = 10\n",
    "length = 5\n",
    "\n",
    "length = 10 "
   ]
  },
  {
   "cell_type": "code",
   "execution_count": 2,
   "metadata": {},
   "outputs": [
    {
     "data": {
      "text/plain": [
       "'Python'"
      ]
     },
     "execution_count": 2,
     "metadata": {},
     "output_type": "execute_result"
    }
   ],
   "source": [
    "class_name = 'Python'\n",
    "class_name"
   ]
  },
  {
   "cell_type": "code",
   "execution_count": null,
   "metadata": {},
   "outputs": [
    {
     "data": {
      "text/plain": [
       "int"
      ]
     },
     "metadata": {},
     "output_type": "display_data"
    }
   ],
   "source": [
    "type(width)"
   ]
  },
  {
   "cell_type": "code",
   "execution_count": null,
   "metadata": {},
   "outputs": [
    {
     "data": {
      "text/plain": [
       "str"
      ]
     },
     "metadata": {},
     "output_type": "display_data"
    }
   ],
   "source": [
    "\n",
    "type(class_name)"
   ]
  },
  {
   "cell_type": "code",
   "execution_count": 1,
   "metadata": {},
   "outputs": [
    {
     "name": "stdout",
     "output_type": "stream",
     "text": [
      "Hello World\n"
     ]
    }
   ],
   "source": [
    "print (\"Hello World\")"
   ]
  },
  {
   "cell_type": "markdown",
   "metadata": {},
   "source": [
    "#### **Problem #2.1**\n",
    "\n",
    "\n",
    "let's create a variable called `my_school` and assign a string (anything inside quotes: `\"...\"`) to it with your school's name.\n",
    "\n",
    "<br>\n",
    "\n",
    "**NOTE**: We will output the variable's value by writing the name of the variable on a line of its own."
   ]
  },
  {
   "cell_type": "code",
   "execution_count": null,
   "metadata": {},
   "outputs": [],
   "source": [
    "my_school = \"# COMPLETE THIS CODE\n",
    "\n",
    "my_school"
   ]
  },
  {
   "cell_type": "markdown",
   "metadata": {},
   "source": [
    "#### **Problem #2.2**\n",
    "\n",
    "Let's create <font color=\"red\"> two varibles </font> to hold two scores 100 and 90 repectivelu and show the sum of two scores.\n",
    "<br>\n",
    "\n",
    "**NOTE**: We will output the variable's value by writing the name of the variable on a line of its own."
   ]
  },
  {
   "cell_type": "code",
   "execution_count": null,
   "metadata": {},
   "outputs": [],
   "source": [
    "\n",
    "score1 = # complete this code\n",
    "score2 = # Complete this code\n",
    "# complete this code to show the sum of two scores"
   ]
  },
  {
   "cell_type": "markdown",
   "metadata": {},
   "source": [
    "#### **Problem #2.3**\n",
    "\n",
    "Let's create the <font color=\"red\"> **varibles** </font> to hold two values,  <br>\n",
    "100  <br>\n",
    "50.99   <br>\n",
    "<br> \n",
    "The variable names can be any names you want\n",
    "Then, show the summation of two variables.\n",
    "\n",
    "**NOTE**: We will output the variable's value by writing the name of the variable on a line of its own."
   ]
  },
  {
   "cell_type": "code",
   "execution_count": 6,
   "metadata": {},
   "outputs": [],
   "source": [
    "\n",
    "# complete this code = 100\n",
    "# Complete this code = 50.99\n",
    "# complete this code to show the sum of two values"
   ]
  },
  {
   "cell_type": "markdown",
   "metadata": {},
   "source": [
    "#### **Problem #2.4**\n",
    "\n",
    "Let's create the <font color=\"red\"> **varibles** </font> to hold two values,  <br>\n",
    "<br><font color=\"yellow\">\n",
    "Python  <br>\n",
    "Programming   <br>\n",
    "<br> </font>\n",
    "The variable names can be any names you want\n",
    "Then, show the summation of two variables.\n",
    "\n",
    "**NOTE**: We will output the variable's value by writing the name of the variable on a line of its own."
   ]
  },
  {
   "cell_type": "code",
   "execution_count": null,
   "metadata": {},
   "outputs": [],
   "source": [
    "\n",
    "# complete this code to hold the values \"Python\" \n",
    "# complete this code to hold the values \"Programming\" \n",
    "# complete this code to show the sum of two values"
   ]
  },
  {
   "cell_type": "markdown",
   "metadata": {},
   "source": [
    "#### **Problem #2.5**\n",
    "\n",
    "#### make the expression to calculate the following math expression\n",
    "#### Set 30 to C and Solve the F value\n",
    "![Math Expression](https://wecapable.com/tools/celsius-to-fahrenheit/celsius-to-fahrenheit-conversion-formula-igetanswers.jpg)\n",
    "\n",
    "<br> Show the answer for F\n"
   ]
  },
  {
   "cell_type": "code",
   "execution_count": 7,
   "metadata": {},
   "outputs": [],
   "source": [
    "C = 30\n",
    "# complete this code"
   ]
  },
  {
   "attachments": {},
   "cell_type": "markdown",
   "metadata": {},
   "source": [
    "***\n",
    "## <p style=\"font-family: Arial; font-size:1.4em;color:gold;\"> 3. Output in Python </p>\n"
   ]
  },
  {
   "attachments": {},
   "cell_type": "markdown",
   "metadata": {},
   "source": [
    "### Simple Formatting Numbers\n",
    "\n",
    "\n",
    "- `Simple way to print with format:` \n",
    "\n",
    "\t- <a href=\"https://docs.python.org/3/library/functions.html?highlight=format#format\"> format(value[, format_spec])\n",
    "\t</a>\n",
    "\t- <a href=\"https://docs.python.org/3/library/string.html#formatspec\"> Format Specification </a>\n",
    "\n",
    "![Format Specifier](https://nimbus-screenshots.s3.amazonaws.com/s/cc0c0ec7efc3aba9bc4406f053b8fdf4.png)\n"
   ]
  },
  {
   "attachments": {},
   "cell_type": "markdown",
   "metadata": {},
   "source": [
    "### <mark style=\"background-color:green; color:white\"> formatting </mark>"
   ]
  },
  {
   "cell_type": "code",
   "execution_count": 3,
   "metadata": {},
   "outputs": [
    {
     "name": "stdout",
     "output_type": "stream",
     "text": [
      "123456789\n",
      "      123456789\n",
      "12345.68\n"
     ]
    }
   ],
   "source": [
    "# Format with width, Decimal / Float \n",
    "\n",
    "print ( 123456789 ) \n",
    "print (format(123456789, '15d'))\n",
    "print (format(12345.678, '.2f'))\n"
   ]
  },
  {
   "cell_type": "code",
   "execution_count": 2,
   "metadata": {},
   "outputs": [
    {
     "name": "stdout",
     "output_type": "stream",
     "text": [
      "1.234568e+04\n",
      "1.23e+04\n"
     ]
    }
   ],
   "source": [
    "# Scientific Notation\n",
    "\n",
    "print (format(12345.6789, 'e'))\n",
    "print (format(12345.6789, '.2e'))\n"
   ]
  },
  {
   "cell_type": "code",
   "execution_count": 26,
   "metadata": {},
   "outputs": [
    {
     "name": "stdout",
     "output_type": "stream",
     "text": [
      "123,456,789.12\n"
     ]
    }
   ],
   "source": [
    "#? Inserting comma separator\n",
    "\n",
    "print (format(123456789.12345, ',.2f'))\n"
   ]
  },
  {
   "cell_type": "code",
   "execution_count": 31,
   "metadata": {},
   "outputs": [
    {
     "name": "stdout",
     "output_type": "stream",
     "text": [
      "1234567.89%\n"
     ]
    }
   ],
   "source": [
    "#? Floating point numbers as a percentage\n",
    "\n",
    "print (format(12345.6789, '.2%'))"
   ]
  },
  {
   "attachments": {},
   "cell_type": "markdown",
   "metadata": {},
   "source": [
    "### <mark style=\"background-color:green; color:white\"> % formatting </mark>"
   ]
  },
  {
   "cell_type": "code",
   "execution_count": 18,
   "metadata": {},
   "outputs": [
    {
     "name": "stdout",
     "output_type": "stream",
     "text": [
      "Value 1 is 1000\n"
     ]
    }
   ],
   "source": [
    "val1 =  1000\n",
    "print (\"Value 1 is %d\" % (val1))"
   ]
  },
  {
   "cell_type": "code",
   "execution_count": 19,
   "metadata": {},
   "outputs": [
    {
     "name": "stdout",
     "output_type": "stream",
     "text": [
      "Integer value: 100, String Value: COMSC140, Floating Value:1234.57\n"
     ]
    }
   ],
   "source": [
    "\n",
    "val1 = 100\n",
    "val2 = 1234.5678\n",
    "strval = \"COMSC140\"\n",
    "\n",
    "print (\"Integer value: %d, String Value: %s, Floating Value:%.2f\" % (val1, strval, val2))"
   ]
  },
  {
   "attachments": {},
   "cell_type": "markdown",
   "metadata": {},
   "source": [
    "#### <mark style=\"background-color:green; color:white\"> Using the String format </mark>"
   ]
  },
  {
   "cell_type": "code",
   "execution_count": 5,
   "metadata": {},
   "outputs": [
    {
     "name": "stdout",
     "output_type": "stream",
     "text": [
      "Python Programming Class\n"
     ]
    }
   ],
   "source": [
    "print ( '{0} {1} Class'.format('Python', 'Programming'))"
   ]
  },
  {
   "cell_type": "code",
   "execution_count": 4,
   "metadata": {},
   "outputs": [
    {
     "name": "stdout",
     "output_type": "stream",
     "text": [
      "                   Python Programming     Class\n"
     ]
    }
   ],
   "source": [
    "print ( '{0:>25} {1:15} Class'.format('Python', 'Programming'))"
   ]
  },
  {
   "cell_type": "code",
   "execution_count": 15,
   "metadata": {},
   "outputs": [
    {
     "name": "stdout",
     "output_type": "stream",
     "text": [
      "This spam is absolutely horrible.\n"
     ]
    }
   ],
   "source": [
    "print('This {food} is {adjective}.'.format(food='spam', adjective='absolutely horrible'))"
   ]
  },
  {
   "cell_type": "code",
   "execution_count": 9,
   "metadata": {},
   "outputs": [
    {
     "name": "stdout",
     "output_type": "stream",
     "text": [
      "Value 1: 100 and Value 2: 200\n"
     ]
    }
   ],
   "source": [
    "v1 = 100; v2 = 200\n",
    "\n",
    "print (\"Value 1: {} and Value 2: {}\".format(v1, v2))"
   ]
  },
  {
   "cell_type": "code",
   "execution_count": 7,
   "metadata": {},
   "outputs": [
    {
     "name": "stdout",
     "output_type": "stream",
     "text": [
      "The average is 56.67 \n",
      "The average is 56.67 \n",
      "The average is 60.00\n"
     ]
    }
   ],
   "source": [
    "avg = (100 + 50 + 20) / 3\n",
    "\n",
    "print (\"The average is {0:.2f} \".format(avg))\n",
    "print (\"The average is {:.2f} \".format(avg))\n",
    "\n",
    "print('The average is {0:.2f}'.format(59.999999))"
   ]
  },
  {
   "cell_type": "code",
   "execution_count": 19,
   "metadata": {},
   "outputs": [
    {
     "name": "stdout",
     "output_type": "stream",
     "text": [
      "12345.68\n",
      "     12345\n",
      "1.234568e+04\n",
      "1.23e+04\n",
      "1234567.89%\n"
     ]
    }
   ],
   "source": [
    "print ( format(12345.6789, '.2f'))\n",
    "print ( format(12345, '10d'))\n",
    "print ( format(12345.6789, 'e'))\n",
    "print ( format(12345.6789, '.2e'))\n",
    "print ( format(12345.6789, '.2%'))"
   ]
  },
  {
   "cell_type": "code",
   "execution_count": 2,
   "metadata": {},
   "outputs": [
    {
     "name": "stdout",
     "output_type": "stream",
     "text": [
      "one\n",
      "two\n",
      "three\n",
      "one two three one/two/three\n"
     ]
    }
   ],
   "source": [
    "# 2.8 More about Data output\n",
    "\n",
    "print ('one')\n",
    "print ('two')\n",
    "print ('three')\n",
    "\n",
    "print ('one', end=' ')\n",
    "print ('two', end=' ')\n",
    "print ('three', end=' ')\n",
    "\n",
    "#? Specifying an Item Separator\n",
    "print ('one', 'two', 'three', sep='/')\n"
   ]
  },
  {
   "attachments": {},
   "cell_type": "markdown",
   "metadata": {},
   "source": [
    "## <mark style=\"background-color:green; color:white\"> PEP 498; f-string </mark>"
   ]
  },
  {
   "cell_type": "code",
   "execution_count": 1,
   "metadata": {},
   "outputs": [
    {
     "name": "stdout",
     "output_type": "stream",
     "text": [
      "The value is 10\n",
      "The value is                   10\n",
      "The value is      12.34\n",
      "The value is 12.34000\n",
      "The string value is                                 Python Programming\n"
     ]
    }
   ],
   "source": [
    "value = 10\n",
    "\n",
    "print (f'The value is {value}')\n",
    "print (f'The value is {value:20}')\n",
    "\n",
    "fvalue = 12.34\n",
    "print (f'The value is {fvalue:>10}')\n",
    "print (f'The value is {fvalue:.5f}')\n",
    "\n",
    "strval = \"Python Programming\"\n",
    "print (f\"The string value is {strval:>50}\")"
   ]
  },
  {
   "attachments": {},
   "cell_type": "markdown",
   "metadata": {},
   "source": [
    "***\n",
    "## Keyboard Input\n",
    "\n",
    "<blockquote>\n",
    "variable = input(prompt)\n",
    "</blockquote>"
   ]
  },
  {
   "cell_type": "code",
   "execution_count": 10,
   "metadata": {},
   "outputs": [
    {
     "name": "stdout",
     "output_type": "stream",
     "text": [
      "Your score is  100\n"
     ]
    }
   ],
   "source": [
    "score = input('Enter your score')\n",
    "print ('Your score is ', score)\n"
   ]
  },
  {
   "cell_type": "code",
   "execution_count": null,
   "metadata": {},
   "outputs": [],
   "source": [
    "score = input ('Enter your score')\n",
    "final_score = score + 100;\t\t# this line causes an error\n",
    "\n",
    "print (final_score)"
   ]
  },
  {
   "cell_type": "code",
   "execution_count": 12,
   "metadata": {},
   "outputs": [
    {
     "name": "stdout",
     "output_type": "stream",
     "text": [
      "200\n"
     ]
    }
   ],
   "source": [
    "score = input ('Enter your score')\n",
    "final_score = int(score) + 100;\t\t# this line causes an error\n",
    "\n",
    "print (final_score)"
   ]
  },
  {
   "attachments": {},
   "cell_type": "markdown",
   "metadata": {},
   "source": [
    "***\n",
    "### Operators\n",
    "![Operators](https://p76.f0.n0.cdn.getcloudapp.com/items/6quEZnzo/bd9ed612-c454-488d-99e3-47237866c01e.jpg?source=viewer&v=6133a6ca78498b57666506941afd8a12)"
   ]
  },
  {
   "attachments": {},
   "cell_type": "markdown",
   "metadata": {},
   "source": []
  },
  {
   "attachments": {},
   "cell_type": "markdown",
   "metadata": {},
   "source": [
    "***\n",
    "## String \n",
    "<mark style=\"background-color:teal; color:white\"> Useful Links </mark>\n",
    "#### <a href=\"https://docs.python.org/3/library/stdtypes.html#string-methods\"> String Method in Python Documentation </a>\n",
    "#### <a href=\"https://www.w3schools.com/python/python_ref_string.asp\"> W3 School Examples </a>\n",
    "#### <mark style=\"background-color:teal; color:white\"> Exercise 3 </mark>"
   ]
  },
  {
   "cell_type": "code",
   "execution_count": 1,
   "metadata": {},
   "outputs": [
    {
     "name": "stdout",
     "output_type": "stream",
     "text": [
      "Python Programming\n",
      "Python\n",
      "Python \n",
      "Python Programmin\n",
      "['Python', 'Programming']\n",
      "Python\n",
      "Programming\n"
     ]
    }
   ],
   "source": [
    "cname = \"Python Programming\"\n",
    "\n",
    "print (cname)\n",
    "print (cname[:6])\n",
    "print (cname[:-11])\n",
    "print (cname[:-1])\n",
    "\n",
    "\n",
    "print (cname.split(\" \"))\n",
    "print (cname.split()[0])\n",
    "print (cname.split()[1])"
   ]
  },
  {
   "attachments": {},
   "cell_type": "markdown",
   "metadata": {},
   "source": [
    "### String Methods Examples\n"
   ]
  },
  {
   "cell_type": "code",
   "execution_count": 3,
   "metadata": {},
   "outputs": [
    {
     "name": "stdout",
     "output_type": "stream",
     "text": [
      "Number of Livermore occurrence 1\n",
      "Index of Livermore 19\n",
      "Index of Livermore 19\n",
      "Livermore\n"
     ]
    }
   ],
   "source": [
    "string1 = 'Python Programming Livermore'\n",
    "substring = 'py'\n",
    "\n",
    "city = 'Livermore'\n",
    "cnt = string1.count(city)\n",
    "print (\"Number of {1} occurrence {0}\".format(cnt, city))\n",
    "\n",
    "idx = string1.find('Livermore') \n",
    "print ('Index of Livermore', idx)\n",
    "idx = string1.find('Livermore', 8) \n",
    "print ('Index of Livermore', idx)\n",
    "\n",
    "print (string1[idx:idx+len(city)])\n"
   ]
  },
  {
   "cell_type": "code",
   "execution_count": 13,
   "metadata": {},
   "outputs": [
    {
     "name": "stdout",
     "output_type": "stream",
     "text": [
      "['Python', ' Java', ' C++', ' Ruby', ' Rail', ' Java Script', ' PHP', ' Go', ' Gotlin']\n",
      "Python\n"
     ]
    }
   ],
   "source": [
    "\n",
    "languages = 'Python, Java, C++, Ruby, Rail, Java Script, PHP, Go, Gotlin'\n",
    "list_languages = languages.split(',')\n",
    "\n",
    "print (list_languages)\n",
    "print (list_languages[0])\n"
   ]
  },
  {
   "cell_type": "code",
   "execution_count": 14,
   "metadata": {},
   "outputs": [
    {
     "name": "stdout",
     "output_type": "stream",
     "text": [
      "    Python   \n",
      "    Python\n",
      "Python   \n"
     ]
    }
   ],
   "source": [
    "\n",
    "## rstrip\n",
    "\n",
    "blank_padded_str = \"    Python   \"\n",
    "print (blank_padded_str)\n",
    "rstripped_str = blank_padded_str.rstrip(' ') \n",
    "print (rstripped_str)\n",
    "\n",
    "lstripped_str = blank_padded_str.lstrip(' ') \n",
    "print (lstripped_str)\n",
    "\n",
    "garbage_padded = '   Pyhton_+$?....'\n",
    "rstripped_str = garbage_padded.rstrip('_+?.')\n"
   ]
  },
  {
   "cell_type": "code",
   "execution_count": 22,
   "metadata": {},
   "outputs": [
    {
     "name": "stdout",
     "output_type": "stream",
     "text": [
      "True\n",
      "False\n",
      "True\n",
      "True\n",
      "True\n"
     ]
    }
   ],
   "source": [
    "## isalnum, isalpha, isdigit, isnumeric\n",
    "\n",
    "val1 = 'Python'\n",
    "print (val1.isalpha())\n",
    "val1 = 'Python3'\n",
    "print (val1.isalpha())\n",
    "\n",
    "\n",
    "val2 = '94543'\n",
    "print (val2.isnumeric())\n",
    "print (val2.isdigit())\n",
    "print (val2.isdecimal())\n",
    "\n"
   ]
  },
  {
   "cell_type": "code",
   "execution_count": null,
   "metadata": {},
   "outputs": [],
   "source": [
    "original_str = input('Enter your string')\n",
    "word_str = input('Enter the serach keywor')\n",
    "\n",
    "idx = original_str.find(word_str)\n",
    "print (original_str[idx: idx+len(word_str)])\n",
    "\n"
   ]
  }
 ],
 "metadata": {
  "kernelspec": {
   "display_name": "base",
   "language": "python",
   "name": "python3"
  },
  "language_info": {
   "codemirror_mode": {
    "name": "ipython",
    "version": 3
   },
   "file_extension": ".py",
   "mimetype": "text/x-python",
   "name": "python",
   "nbconvert_exporter": "python",
   "pygments_lexer": "ipython3",
   "version": "3.9.17"
  },
  "orig_nbformat": 4,
  "vscode": {
   "interpreter": {
    "hash": "32cd87c0c55905266dc8232ebf1148f668af0d9324249c125246585210a29cd6"
   }
  }
 },
 "nbformat": 4,
 "nbformat_minor": 2
}
